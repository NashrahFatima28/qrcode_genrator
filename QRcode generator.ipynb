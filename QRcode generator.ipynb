{
 "cells": [
  {
   "cell_type": "code",
   "execution_count": 1,
   "id": "13f02159",
   "metadata": {},
   "outputs": [],
   "source": [
    "import qrcode\n",
    "from PIL import Image\n",
    "from IPython.display import display\n",
    "from datetime import datetime\n",
    "import os\n"
   ]
  },
  {
   "cell_type": "code",
   "execution_count": 2,
   "id": "958c0234",
   "metadata": {},
   "outputs": [
    {
     "name": "stdout",
     "output_type": "stream",
     "text": [
      "Enter the text or URL to encode: https://github.com/NashrahFatima28/qrcode_genrator\n",
      "✅ QR code saved as: output\\qrcode_20250531_235150.png\n"
     ]
    },
    {
     "data": {
      "image/png": "[encoded data removed]",
      "text/plain": [
       "<qrcode.image.pil.PilImage at 0x1a6f1b6c5d0>"
      ]
     },
     "metadata": {},
     "output_type": "display_data"
    }
   ],
   "source": [
    "def generate_qr(data, filename=None, box_size=10, border=4, fill_color=\"black\", back_color=\"white\"):\n",
    "    \"\"\"\n",
    "    Generates and displays a QR code from given data.\n",
    "    \n",
    "    Parameters:\n",
    "    - data (str): Text or URL to encode.\n",
    "    - filename (str, optional): Name of the file to save the QR image.\n",
    "    - box_size (int): Size of QR boxes.\n",
    "    - border (int): White border size.\n",
    "    - fill_color (str): Color of the QR modules.\n",
    "    - back_color (str): Background color of the QR.\n",
    "    \"\"\"\n",
    "\n",
    "    # Initialize QRCode object\n",
    "    qr = qrcode.QRCode(\n",
    "        version=1,\n",
    "        error_correction=qrcode.constants.ERROR_CORRECT_H,\n",
    "        box_size=box_size,\n",
    "        border=border,\n",
    "    )\n",
    "    \n",
    "    qr.add_data(data)\n",
    "    qr.make(fit=True)\n",
    "    img = qr.make_image(fill_color=fill_color, back_color=back_color)\n",
    "\n",
    "    # Generate default filename if none is provided\n",
    "    if filename is None:\n",
    "        timestamp = datetime.now().strftime(\"%Y%m%d_%H%M%S\")\n",
    "        filename = f\"qrcode_{timestamp}.png\"\n",
    "    \n",
    "    # Ensure output directory exists\n",
    "    output_dir = \"output\"\n",
    "    os.makedirs(output_dir, exist_ok=True)\n",
    "    full_path = os.path.join(output_dir, filename)\n",
    "\n",
    "    # Save and display\n",
    "    img.save(full_path)\n",
    "    print(f\"✅ QR code saved as: {full_path}\")\n",
    "    display(img)\n",
    "    \n",
    "    # User input\n",
    "data = input(\"Enter the text or URL to encode: \")\n",
    "generate_qr(data)\n",
    "\n"
   ]
  },
  {
   "cell_type": "code",
   "execution_count": null,
   "id": "8a31f690",
   "metadata": {},
   "outputs": [],
   "source": []
  }
 ],
 "metadata": {
  "kernelspec": {
   "display_name": "Python 3 (ipykernel)",
   "language": "python",
   "name": "python3"
  },
  "language_info": {
   "codemirror_mode": {
    "name": "ipython",
    "version": 3
   },
   "file_extension": ".py",
   "mimetype": "text/x-python",
   "name": "python",
   "nbconvert_exporter": "python",
   "pygments_lexer": "ipython3",
   "version": "3.11.4"
  }
 },
 "nbformat": 4,
 "nbformat_minor": 5
}
